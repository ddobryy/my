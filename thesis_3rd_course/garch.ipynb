{
 "cells": [
  {
   "cell_type": "markdown",
   "id": "df2393e3",
   "metadata": {},
   "source": [
    "### 1. Модель без марковского переключения"
   ]
  },
  {
   "cell_type": "markdown",
   "id": "5fa74524",
   "metadata": {},
   "source": [
    "### Модель и обозначения: \n",
    "$$y_t = \\alpha + \\epsilon_t$$\n",
    "$$\\epsilon_t = \\sigma_t z_t$$\n",
    "$$z_t \\sim iid \\mathcal{N}(0, 1)$$\n",
    "$$\\sigma_t^2 = \\beta_0 + \\beta_1 \\epsilon_{t-1}^2 + \\gamma \\sigma_{t-1}^2$$\n",
    "\n",
    "\n",
    "### Задача:\n",
    "Дано: $(y_0, y_2, ..., y_T) = Y$ \n",
    "\n",
    "Оценить параметры $(\\alpha, \\beta_0, \\beta_1, \\gamma) = \\theta$\n"
   ]
  },
  {
   "cell_type": "code",
   "execution_count": 1,
   "id": "fa043831",
   "metadata": {},
   "outputs": [
    {
     "name": "stderr",
     "output_type": "stream",
     "text": [
      "Matplotlib is building the font cache; this may take a moment.\n"
     ]
    }
   ],
   "source": [
    "import pandas as pd \n",
    "import numpy as np \n",
    "from scipy.stats import norm\n",
    "import math as m\n",
    "import matplotlib.pyplot as plt "
   ]
  },
  {
   "cell_type": "markdown",
   "id": "fb60b23a",
   "metadata": {},
   "source": [
    "правдоподобие: \n",
    "$$L(\\theta| Y) = \\Pi_{t = 1}^T (2\\pi \\sigma_t^2)^{-1/2} \\exp(-\\frac{1}{2\\sigma_t^2}(y_t - \\alpha)^2)$$ \n",
    "Надо выразить $\\sigma_t$ через $y_t$ и найти argmax\n",
    "\n",
    "$$\\epsilon_t = y_t - \\alpha$$\n",
    "$$\\sigma_t = \\beta_0 + \\beta_1 \\epsilon_{t-1}^2 + \\gamma\\sigma_{t-1}^2 = \\beta_0 + \\beta_1 (y_{t-1} - \\alpha)^2 + \\gamma\\sigma_{t-1}^2$$\n",
    "\n",
    "$$\\sigma_0^2 = \\frac{\\beta_0}{1 - \\beta_1 - \\gamma}$$"
   ]
  },
  {
   "cell_type": "code",
   "execution_count": 2,
   "id": "cd3e83c7",
   "metadata": {},
   "outputs": [],
   "source": [
    "# функция выражает sigma_t по массиву y размера T \n",
    "\n",
    "def calc_sigmasq(t, y, theta): # y - массив значений y, T - размер массива значений, theta = параметры\n",
    "    # в theta лежат параметры\n",
    "    # выгружаем параметры\n",
    "    alpha = theta[0]\n",
    "    beta_0 = theta[1]\n",
    "    beta_1 = theta[2]\n",
    "    gamma = theta[3]\n",
    "\n",
    "    sigmasq = [beta_0 / (1 - beta_1 - gamma)]\n",
    "    for i in range(1, t + 1):\n",
    "        sigmasq.append(beta_0 + beta_1 * (y[i - 1] - alpha)**2 + gamma * sigmasq[i - 1])\n",
    "    return sigmasq"
   ]
  },
  {
   "cell_type": "code",
   "execution_count": 3,
   "id": "d535bddf",
   "metadata": {},
   "outputs": [],
   "source": [
    "# надо посчитать правдоподобие при разных значениях [alpha, beta_0, beta_1, gamma] = theta и посчитать argmax\n",
    "\n",
    "def calc_log_likelhood(t, y, theta):\n",
    "    sigmasq = calc_sigmasq(t, y, theta) ## массив сигма square\n",
    "    alpha = theta[0]\n",
    "    logL = 0\n",
    "    for i in range(t):\n",
    "        add = m.log(norm.pdf(y[i], loc=alpha, scale=(sigmasq[i]**0.5))) # scale = \\sqrt(var)\n",
    "        logL += add\n",
    "    return logL\n"
   ]
  },
  {
   "cell_type": "code",
   "execution_count": 4,
   "id": "6dd694c3",
   "metadata": {},
   "outputs": [],
   "source": [
    "def find_max_likelhood(t, y): \n",
    "    # надо сгенерировать массив параметров theta = [alpha, beta_0, beta_1, gamma] alpha \\in [-1, 1], beta_0 in (0, 1], beta_1 in [0, 1], gamma in [0, 1]\n",
    "\n",
    "    alpha_values = np.arange(-1, 1.1, 0.1)\n",
    "    beta_0_values = np.arange(0.1, 1.1, 0.1)\n",
    "    beta_1_values = np.arange(0, 1.1, 0.1)\n",
    "    gamma_values = np.arange(0, 1.1, 0.1)\n",
    "\n",
    "    theta_values = []\n",
    "    for first in alpha_values:\n",
    "        for second in beta_0_values:\n",
    "            for third in beta_1_values:\n",
    "                for fourth in gamma_values:\n",
    "                    theta_values.append([first, second, third, fourth])\n",
    "\n",
    "\n",
    "    L_values = []\n",
    "    \n",
    "    for theta in theta_values:\n",
    "        L = calc_log_likelhood(t, y, theta)\n",
    "        L_values.append(L)\n",
    "    \n",
    "    theta_index = np.argmax(L_values)\n",
    "\n",
    "    return theta_values[theta_index], L_values\n",
    "\n",
    "# find_max_likelhood(5, [0.2, 0.1, -0.02, -0.1, 0.012])\n"
   ]
  },
  {
   "cell_type": "code",
   "execution_count": 22,
   "id": "7677d0a6",
   "metadata": {},
   "outputs": [
    {
     "name": "stdout",
     "output_type": "stream",
     "text": [
      "1000\n",
      "1000\n",
      "1000\n",
      "1000\n"
     ]
    }
   ],
   "source": [
    "# генерим данные \n",
    "alpha = 0.5\n",
    "beta_0 = 1\n",
    "beta_1 = 0.3\n",
    "gamma = 0.6 \n",
    "sigma_0sq = (beta_0 / (1 - beta_1 - gamma)) # попробуем делать массив sigma^2\n",
    "\n",
    "z = norm.rvs(loc=0, scale=1, size=1000, random_state=42) # вектор z_t\n",
    "\n",
    "# посчитаем массив sigma, epsilon\n",
    "sigmasq = [sigma_0sq]\n",
    "epsilon = [sigmasq[0] * z[0]]\n",
    "for i in range(1, len(z)):\n",
    "    sigmasq.append(beta_0 + beta_1 * epsilon[i - 1]**2 + gamma * sigmasq[i - 1])\n",
    "    epsilon.append((sigmasq[i] ** 0.5) * z[i])\n",
    "\n",
    "# посчитаем массив y\n",
    "y = []\n",
    "for i in range(len(z)):\n",
    "    y.append(alpha + epsilon[i])\n",
    "\n",
    "print(len(y))\n",
    "print(len(z))\n",
    "print(len(epsilon))\n",
    "print(len(sigmasq))"
   ]
  },
  {
   "cell_type": "code",
   "execution_count": 7,
   "id": "c32bd9e4",
   "metadata": {},
   "outputs": [
    {
     "name": "stdout",
     "output_type": "stream",
     "text": [
      "Параметры после оптимизации: alpha = 0.5438, beta_0 = 0.9123, beta_1 = 0.2468, gamma = 0.6395. Log-правдоподобие: -2352.3539.\n",
      "Реальные параметры: alpha = 0.5, beta_0 = 1, beta_1 = 0.3, gamma = 0.6. Log-Правдоподобие при этих параметрах: -2353.3618.\n"
     ]
    }
   ],
   "source": [
    "from scipy.optimize import minimize\n",
    "\n",
    "start_theta = [0.1, 0.1, 0.1, 0.1]\n",
    "\n",
    "def optimize_function(theta):\n",
    "    return -1 * calc_log_likelhood(t=1000, y=y, theta=theta)\n",
    "\n",
    "result = minimize(optimize_function, start_theta, bounds=[(0.01, 0.6), (0, 1.5), (0, 0.34), (0, 0.64)])\n",
    "\n",
    "print(f'Параметры после оптимизации: alpha = {result.x[0]:.4f}, beta_0 = {result.x[1]:.4f}, beta_1 = {result.x[2]:.4f}, gamma = {result.x[3]:.4f}. Log-правдоподобие: {-1 * result.fun:.4f}.')\n",
    "\n",
    "true_log_likelhood = calc_log_likelhood(t=1000, y=y, theta=[0.5, 1, 0.3, 0.6])\n",
    "print(f'Реальные параметры: alpha = {0.5}, beta_0 = {1}, beta_1 = {0.3}, gamma = {0.6}. Log-Правдоподобие при этих параметрах: {true_log_likelhood:.4f}.')"
   ]
  },
  {
   "cell_type": "markdown",
   "id": "4227c7f4",
   "metadata": {},
   "source": [
    "Пробую больше данных (выборка 100к)"
   ]
  },
  {
   "cell_type": "code",
   "execution_count": 9,
   "id": "d1ffbbb1",
   "metadata": {},
   "outputs": [
    {
     "data": {
      "image/png": "[encoded data removed]",
      "text/plain": [
       "<Figure size 640x480 with 1 Axes>"
      ]
     },
     "metadata": {},
     "output_type": "display_data"
    },
    {
     "name": "stdout",
     "output_type": "stream",
     "text": [
      "Параметры после оптимизации: alpha = 0.5046, beta_0 = 0.9940, beta_1 = 0.2939, gamma = 0.6059. Log-правдоподобие: -241864.8670.\n",
      "Реальные параметры: alpha = 0.5, beta_0 = 1, beta_1 = 0.3, gamma = 0.6. Log-Правдоподобие при этих параметрах: -241866.3299.\n"
     ]
    }
   ],
   "source": [
    "# генерим данные \n",
    "alpha = 0.5\n",
    "beta_0 = 1\n",
    "beta_1 = 0.3\n",
    "gamma = 0.6 \n",
    "sigma_0sq = (beta_0 / (1 - beta_1 - gamma)) # попробуем делать массив sigma^2\n",
    "\n",
    "z = norm.rvs(loc=0, scale=1, size=100000, random_state=42) # вектор z_t\n",
    "\n",
    "# посчитаем массив sigma, epsilon\n",
    "sigmasq = [sigma_0sq]\n",
    "epsilon = [sigmasq[0] * z[0]]\n",
    "for i in range(1, len(z)):\n",
    "    sigmasq.append(beta_0 + beta_1 * epsilon[i - 1]**2 + gamma * sigmasq[i - 1])\n",
    "    epsilon.append((sigmasq[i] ** 0.5) * z[i])\n",
    "\n",
    "# посчитаем массив y\n",
    "y = []\n",
    "for i in range(len(z)):\n",
    "    y.append(alpha + epsilon[i])\n",
    "\n",
    "plt.plot(y)\n",
    "plt.show()\n",
    "\n",
    "start_theta = [0.1, 0.1, 0.1, 0.1]\n",
    "\n",
    "\n",
    "# ищем максимум правдоподобия\n",
    "\n",
    "def optimize_function(theta):\n",
    "    return -1 * calc_log_likelhood(t=100000, y=y, theta=theta)\n",
    "\n",
    "result = minimize(optimize_function, start_theta, bounds=[(0.01, 0.6), (0, 1.5), (0, 0.34), (0, 0.64)])\n",
    "\n",
    "print(f'Параметры после оптимизации: alpha = {result.x[0]:.4f}, beta_0 = {result.x[1]:.4f}, beta_1 = {result.x[2]:.4f}, gamma = {result.x[3]:.4f}. Log-правдоподобие: {-1 * result.fun:.4f}.')\n",
    "\n",
    "true_log_likelhood = calc_log_likelhood(t=100000, y=y, theta=[0.5, 1, 0.3, 0.6])\n",
    "print(f'Реальные параметры: alpha = {0.5}, beta_0 = {1}, beta_1 = {0.3}, gamma = {0.6}. Log-Правдоподобие при этих параметрах: {true_log_likelhood:.4f}.')"
   ]
  },
  {
   "cell_type": "markdown",
   "id": "f354a89d",
   "metadata": {},
   "source": [
    "### 2. Модель с переключением"
   ]
  },
  {
   "cell_type": "markdown",
   "id": "05a414e8",
   "metadata": {},
   "source": [
    "Обозначения: \n",
    "\n",
    "### Модель и обозначения: \n",
    "Задана марковская цепь $\\{s_t\\}$ с 2-мя состояниями $\\{1, 2\\}$.\n",
    "\n",
    "$p_{11}, p_{12}, p_{21}, p_{22}$ -- переходные вероятности\n",
    "\n",
    "$\\xi_{1|0}$ -- вектор начального распределения   \n",
    "\n",
    "\n",
    "\n",
    "Рассматриваем GARCH, параметры которого индексированы $\\{s_t\\}$:\n",
    "\n",
    "$$y_t = \\alpha^{s_t} + \\varepsilon_t$$\n",
    "$$\\varepsilon_t = \\sigma_t z_t$$\n",
    "$$z_t \\sim iid \\mathcal{N}(0, 1)$$\n",
    "$$\\sigma_t^2 = \\beta_0^{s_t} + \\beta_1^{s_t} \\epsilon_{t-1}^2 + \\gamma^{s_t} \\sigma_{t-1}^2$$\n",
    "\n",
    "\n",
    "### Задача:\n",
    "Дано: $(y_1, y_2, ..., y_T) = Y$ \n",
    "\n",
    "Оценить параметры $\\theta_1 = (\\alpha^1, \\beta_0^1, \\beta_1^1, \\gamma^1)$, $\\theta_2 = (\\alpha^2, \\beta_0^2, \\beta_1^2, \\gamma^2)$ "
   ]
  },
  {
   "cell_type": "markdown",
   "id": "ccda4f89",
   "metadata": {},
   "source": [
    "Гипотеза:\n",
    "\n",
    "$$L(y_t | y_1, ..., y_{t-1},s_t = 1) = L(y_t | y_1, ..., y_{t-1}, s_t = 1, s_{t-1} = 1) \\frac{p_{11} \\mathbb{P}(s_{t-1} = 1)}{\\mathbb{P}(s_{t} = 1)} + L(y_t | y_1, ..., y_{t-1}, s_t = 1, s_{t-1} = 2) \\frac{p_{21} \\mathbb{P}(s_{t-1} = 2)}{\\mathbb{P}(s_{t} = 1)} $$\n",
    "\n",
    "\n",
    "$L(y_t | y_1, ..., y_{t-1}, s_t = 1, s_{t-1} = 1,2)$ можно посчитать рекурсивно\n",
    "\n",
    "Вероятности $\\mathbb{P}(s_t = 1, 2)$ тоже понятно, как посчитать \n",
    "\n",
    "Вычисляем "
   ]
  },
  {
   "cell_type": "code",
   "execution_count": null,
   "id": "66be77ac",
   "metadata": {},
   "outputs": [],
   "source": []
  },
  {
   "cell_type": "markdown",
   "id": "6e22bb02",
   "metadata": {},
   "source": [
    "## Пробую нагенирорвать данные для модели с марковским переключением\n"
   ]
  },
  {
   "cell_type": "code",
   "execution_count": 79,
   "id": "6d6f8134",
   "metadata": {},
   "outputs": [
    {
     "name": "stdout",
     "output_type": "stream",
     "text": [
      "Значения МЦ состояний: [1, 2, 1, 2, 2, 2, 1, 2, 1, 2, 1, 1, 2, 1, 2, 1, 1, 2, 1, 2, 1, 2, 1, 2, 1, 2, 2, 1, 2, 1, 2, 1, 2, 2, 2, 1, 2, 1, 1, 2, 2, 2, 2, 1, 1, 2, 1, 2, 2, 1, 2, 2, 2, 2, 2, 1, 2, 2, 2, 2, 1, 2, 2, 2, 1, 2, 2, 2, 2, 2, 1, 1, 2, 2, 2, 2, 1, 2, 1, 2, 2, 1, 1, 1, 1, 1, 1, 1, 1, 2, 1, 2, 1, 2, 2, 1, 2, 1, 2, 2, 2, 2, 1, 1, 2, 1, 1, 1, 1, 2, 2, 2, 1, 1, 2, 2, 1, 2, 2, 2, 2, 1, 2, 2, 1, 2, 2, 1, 1, 1, 1, 2, 1, 1, 1, 1, 2, 2, 1, 2, 1, 1, 2, 2, 2, 2, 1, 2, 1, 1, 2, 2, 1, 1, 2, 1, 2, 2, 2, 2, 2, 2, 2, 2, 1, 2, 2, 1, 2, 1, 2, 2, 1, 2, 1, 1, 2, 2, 2, 2, 2, 2, 1, 1, 2, 1, 1, 1, 1, 2, 2, 1, 1, 2, 2, 2, 2, 2, 1, 2, 1, 1, 2, 1, 2, 2, 2, 2, 2, 1, 2, 1, 1, 2, 2, 2, 2, 2, 1, 2, 2, 1, 2, 1, 2, 2, 1, 2, 1, 2, 2, 2, 1, 1, 2, 2, 1, 1, 2, 1, 2, 1, 2, 2, 1, 2, 2, 2, 2, 2, 1, 2, 1, 2, 2, 2, 2, 2, 2, 2, 1, 2, 2, 2, 2, 2, 2, 1, 1, 2, 2, 1, 1, 1, 1, 2, 1, 2, 2, 2, 1, 2, 1, 1, 2, 1, 2, 2, 2, 1, 1, 1, 2, 2, 1, 2, 2, 1, 2, 2]\n",
      "[np.float64(2.0707480695568794), np.float64(0.45599806248227404), np.float64(2.586420959617529), np.float64(7.2914741057761185), np.float64(-0.5920143739068031), np.float64(-0.7983299846651768), np.float64(10.153352536414205), np.float64(8.779205556889686), np.float64(-3.7201968972018786), np.float64(6.681429965257082), np.float64(-3.552594216955111), np.float64(-2.8523555704815093), np.float64(3.0376274050899714), np.float64(-12.305571703665935), np.float64(-20.415741636443506), np.float64(-8.047458310363247), np.float64(-12.3738775074212), np.float64(6.400291415999425), np.float64(-11.915059049131894), np.float64(-24.216979464046997), np.float64(29.185331394579627), np.float64(-5.978546637272683), np.float64(2.138633120859579), np.float64(-36.96926250087751), np.float64(-15.460970602939172), np.float64(4.820641065882246), np.float64(-42.59277473502441), np.float64(14.7159119345079), np.float64(-24.774139576042693), np.float64(-10.037840391157015), np.float64(-23.328348793286022), np.float64(63.57055899720813), np.float64(0.17016303581623626), np.float64(-70.25599408139094), np.float64(76.81082767869756), np.float64(-100.33568474147089), np.float64(25.96687902741518), np.float64(-182.93001021851958), np.float64(-164.06555676979426), np.float64(37.657066300070184), np.float64(153.08859844902932), np.float64(44.616506449937624), np.float64(-31.48037693389336), np.float64(-65.22421823881756), np.float64(-255.09190044553782), np.float64(-196.21513988540732), np.float64(-109.19067166370367), np.float64(291.0192533108688), np.float64(129.93189156342967), np.float64(-526.8268166357885), np.float64(170.7036016123514), np.float64(-225.61732677864663), np.float64(-451.273448364631), np.float64(497.33061846481644), np.float64(999.4765226241235), np.float64(865.0522957337976), np.float64(-1020.87236012068), np.float64(-478.6021223863319), np.float64(577.1412390903884), np.float64(1909.9412823054636), np.float64(-881.8372304074198), np.float64(-394.4094727583968), np.float64(-2602.2688880604946), np.float64(-3913.8058406839173), np.float64(2698.2799622196785), np.float64(5690.034393622834), np.float64(-457.4607147577488), np.float64(7008.9840439509835), np.float64(3393.197845874929), np.float64(-6841.185203891781), np.float64(3263.8419164718016), np.float64(11103.968302576333), np.float64(-417.58747187742733), np.float64(20033.391980279877), np.float64(-54793.85445829536), np.float64(39644.1925801902), np.float64(3762.055706281452), np.float64(-14180.00355309706), np.float64(3446.015157437856), np.float64(-81925.08069926203), np.float64(-17107.986080079034), np.float64(21803.06787501887), np.float64(72085.3864562499), np.float64(-28321.407691648776), np.float64(-36448.26466112457), np.float64(-20182.379435790488), np.float64(30264.285571352037), np.float64(10029.14845327217), np.float64(-12851.135618999228), np.float64(14566.56500290692), np.float64(2270.615132821335), np.float64(24872.681066217086), np.float64(-16924.05152789373), np.float64(-9659.501443049985), np.float64(-12998.436230496594), np.float64(-39000.33992169282), np.float64(12440.963799240004), np.float64(8679.641755265642), np.float64(190.37625264847355), np.float64(-9516.186746397356), np.float64(-63760.6348524523), np.float64(-29367.961903234656), np.float64(-19336.501784361775), np.float64(-36078.016045576), np.float64(-9133.769226527902), np.float64(17841.51126083443), np.float64(67094.33641511993), np.float64(8019.039071016926), np.float64(9233.187228864399), np.float64(-2970.5461842219247), np.float64(-84013.90290432493), np.float64(-2142.4851098761314), np.float64(3772.8638430532665), np.float64(119612.68837617351), np.float64(-20549.957212415855), np.float64(35616.746009422415), np.float64(-3246.585717934406), np.float64(-119792.50861203873), np.float64(166471.6293912163), np.float64(154266.14886872956), np.float64(201343.81241228667), np.float64(-205435.6435078106), np.float64(412724.6065819573), np.float64(-636383.2836594164), np.float64(290564.87128953164), np.float64(1286282.6045932756), np.float64(-1174737.6906861286), np.float64(-635138.9924214291), np.float64(93256.55381561421), np.float64(-365866.6292995659), np.float64(-926510.7345047396), np.float64(66597.21448580189), np.float64(-800191.1379624533), np.float64(345603.90882736153), np.float64(-548081.4797411724), np.float64(853632.4814559947), np.float64(-701090.7647721461), np.float64(-360990.6536098647), np.float64(724403.1750680831), np.float64(-1385119.7992084236), np.float64(262850.1101399147), np.float64(1185078.7509160873), np.float64(-2173963.1644713343), np.float64(414110.61624467344), np.float64(643936.2043031388), np.float64(2157623.6867932314), np.float64(-3021370.996460596), np.float64(-4693984.481763699), np.float64(1966279.6106824947), np.float64(923767.6911045496), np.float64(872139.5660358018), np.float64(1341922.3122134195), np.float64(-2100605.920126246), np.float64(616631.7307512118), np.float64(863789.8622228791), np.float64(-1665523.7620558105), np.float64(5338712.701156276), np.float64(2458741.007628395), np.float64(-7141727.651351265), np.float64(5637536.040567956), np.float64(-10107773.869887685), np.float64(10859283.534907764), np.float64(20039948.950609148), np.float64(-20102078.151943926), np.float64(21133143.215361264), np.float64(12002064.693215974), np.float64(27276223.89821515), np.float64(56387992.40361281), np.float64(-13369199.946914803), np.float64(-32284064.44785981), np.float64(-47293883.52114363), np.float64(-56132586.64513473), np.float64(-4743988.204446617), np.float64(23028340.816641048), np.float64(14882209.137842096), np.float64(35116162.27232767), np.float64(700483.871776662), np.float64(85787728.71660912), np.float64(-24537223.496874843), np.float64(281062932.76542395), np.float64(153523549.11824167), np.float64(-251941271.4860828), np.float64(-285102826.76811343), np.float64(124802727.62059751), np.float64(-66904502.3186576), np.float64(167640672.67262354), np.float64(96413988.42716473), np.float64(-12119594.845520632), np.float64(-109298112.52459992), np.float64(-249648567.39786363), np.float64(-118124893.20261544), np.float64(184031346.41885462), np.float64(41661361.73518291), np.float64(-268576189.71773154), np.float64(54506017.0829425), np.float64(133839940.10261354), np.float64(-348569650.37469435), np.float64(78314865.03344113), np.float64(23105415.215268087), np.float64(-497414980.7520157), np.float64(155076501.5413724), np.float64(194206904.09456784), np.float64(441997611.7293287), np.float64(419590474.2476602), np.float64(-749380215.371164), np.float64(-780142750.7436355), np.float64(563150639.2836924), np.float64(654944678.7382548), np.float64(765211289.3289644), np.float64(4718714255.429374), np.float64(2222798379.1645827), np.float64(3693321620.8567543), np.float64(3082337932.23263), np.float64(2781019419.133102), np.float64(-1623354831.4181724), np.float64(4386101613.606617), np.float64(-5552483185.528629), np.float64(-2124002531.1771643), np.float64(-3418907247.8121467), np.float64(667939962.5199865), np.float64(20720242440.847477), np.float64(-24833842221.682987), np.float64(16559878101.255909), np.float64(-33505728354.96283), np.float64(-16290532678.84433), np.float64(43409235079.61546), np.float64(2505075086.660356), np.float64(-46057404018.83199), np.float64(-29770323095.226818), np.float64(34721701584.148964), np.float64(-45352025117.31128), np.float64(16571473607.000933), np.float64(2733927305.7893076), np.float64(-30295121594.6916), np.float64(120226167279.10393), np.float64(70721524895.01329), np.float64(-191781763435.30066), np.float64(23888698323.713184), np.float64(-93685139052.04756), np.float64(103201802627.96638), np.float64(-122723356929.18182), np.float64(-15776063240.587147), np.float64(76312020432.12433), np.float64(152180038033.50565), np.float64(-191620120809.57202), np.float64(-76727329472.83284), np.float64(-122632997369.47849), np.float64(-194936148631.6912), np.float64(635642419015.1865), np.float64(255486455038.2805), np.float64(-640911206315.8721), np.float64(684719314915.7325), np.float64(1461911809351.3127), np.float64(1404979670860.5671), np.float64(-2804262945709.221), np.float64(-1436972522755.2942), np.float64(4353147613837.175), np.float64(-3576183536926.3633), np.float64(2747327392913.4287), np.float64(5505400807489.169), np.float64(-5818240310231.613), np.float64(-489377950570.45166), np.float64(-29216772388500.195), np.float64(-25293755815036.51), np.float64(-8435450213066.421), np.float64(-46374288172957.65), np.float64(88630461999794.81), np.float64(-91856095631180.89), np.float64(-31135928571838.02), np.float64(10612894715556.322), np.float64(128708844828749.1), np.float64(-141814322977150.66), np.float64(126812704001570.75), np.float64(1118926675083.7068), np.float64(-83133715283531.66), np.float64(52190332984726.766), np.float64(18320547447203.594), np.float64(-61110252403610.52), np.float64(8457263182877.283), np.float64(-51202925038842.16), np.float64(12110653823038.695), np.float64(77630843881401.08), np.float64(159042431131325.88), np.float64(-144468195688496.44), np.float64(362419423504267.3), np.float64(-464931368560361.1), np.float64(-67500422564302.25), np.float64(288248222093345.8), np.float64(163342541594477.06), np.float64(-285869228642842.25), np.float64(-80865424937394.38), np.float64(-149975520481205.28), np.float64(-207994519722688.62), np.float64(355834400365282.3), np.float64(135117012756511.28), np.float64(-296282423626118.5), np.float64(469235646561455.1), np.float64(147150461825183.97), np.float64(436340466904418.06), np.float64(427041870933585.3)]\n"
     ]
    },
    {
     "data": {
      "image/png": "[encoded data removed]",
      "text/plain": [
       "<Figure size 640x480 with 1 Axes>"
      ]
     },
     "metadata": {},
     "output_type": "display_data"
    }
   ],
   "source": [
    "# генерим данные \n",
    "\n",
    "# генерим состояния марковской цепи\n",
    "\n",
    "p_11 = 0.3\n",
    "p_12 = 0.7\n",
    "p_21 = 0.4\n",
    "p_22 = 0.6\n",
    "t = 300\n",
    "xi_10 = [0.5, 0.5]\n",
    "\n",
    "import random \n",
    "s = [random.choices([1, 2], weights=xi_10)[0]]\n",
    "for i in range(1, t):\n",
    "    if s[i - 1] == 1:\n",
    "        s.append(random.choices([1, 2], weights=[p_11, p_12])[0])\n",
    "    else: s.append(random.choices([1, 2], weights=[p_21, p_22])[0])\n",
    "\n",
    "print(f'Значения МЦ состояний: {s}')\n",
    "\n",
    "\n",
    "# задаем 2 значения для каждого параметра\n",
    "alpha = [0.5, 1]\n",
    "beta_0 = [1, 2]\n",
    "beta_1 = [0.3, 0.6]\n",
    "gamma = [0.6, 1.2] \n",
    "\n",
    "if s[0] == 1: sigma_0sq = (beta_0[0] / (1 - beta_1[0] - gamma[0])) \n",
    "else: sigma_0sq = (beta_0[1] / (2 - beta_1[1] - gamma[1]))\n",
    "\n",
    "z = norm.rvs(loc=0, scale=1, size=len(s), random_state=42) # вектор z_t\n",
    "\n",
    "# посчитаем массив sigma, epsilon\n",
    "sigmasq = [sigma_0sq]\n",
    "epsilon = [sigma_0sq**0.5 * z[0]]\n",
    "for i in range(1, len(z)):\n",
    "    if s[i] == 1:\n",
    "        sigmasq.append(beta_0[0] + beta_1[0] * epsilon[i - 1]**2 + gamma[0] * sigmasq[i - 1])\n",
    "        epsilon.append((sigmasq[i]**0.5) * z[i])\n",
    "    else:\n",
    "        sigmasq.append(beta_0[1] + beta_1[1] * epsilon[i - 1]**2 + gamma[1] * sigmasq[i - 1])\n",
    "        epsilon.append((sigmasq[i]**0.5) * z[i])\n",
    "\n",
    "# посчитаем массив y\n",
    "y = []\n",
    "for i in range(len(z)):\n",
    "    if s[i] == 1: y.append(alpha[0] + epsilon[i])\n",
    "    else: y.append(alpha[1] + epsilon[i])\n",
    "\n",
    "print(y)\n",
    "\n",
    "plt.plot(y)\n",
    "plt.show()"
   ]
  },
  {
   "cell_type": "code",
   "execution_count": 70,
   "id": "400f4161",
   "metadata": {},
   "outputs": [
    {
     "name": "stdout",
     "output_type": "stream",
     "text": [
      "[1, 2, 2, 2, 2, 1, 2, 2, 2, 1, 2, 2, 2, 1, 2, 1, 2, 1, 2, 2, 2, 1, 2, 1, 2, 2, 1, 2, 2, 1, 2, 2, 1, 2, 2, 1, 2, 2, 1, 2, 2, 2, 1, 2, 2, 2, 1, 2, 1, 1, 2, 2, 1, 2, 2, 2, 2, 2, 1, 2, 2, 2, 2, 1, 2, 1, 2, 2, 1, 1, 2, 1, 1, 1, 2, 1, 1, 2, 1, 2, 1, 2, 1, 2, 2, 1, 2, 1, 2, 2, 1, 2, 2, 1, 2, 2, 1, 2, 1, 1, 2, 1, 2, 2, 1, 2, 2, 1, 1, 2, 1, 1, 2, 2, 2, 1, 2, 2, 2, 2, 1, 1, 2, 1, 2, 1, 2, 2, 2, 1, 1, 1, 2, 1, 2, 1, 2, 1, 2, 1, 2, 2, 1, 2, 2, 1, 2, 2, 2, 2, 2, 2, 1, 2, 2, 1, 2, 2, 2, 1, 2, 1, 2, 2, 2, 1, 2, 2, 2, 1, 2, 2, 1, 2, 2, 1, 1, 1, 2, 2, 2, 1, 2, 2, 2, 1, 2, 2, 2, 2, 1, 2, 2, 2, 2, 1, 1, 2, 1, 2, 2, 2, 1, 2, 1, 2, 1, 2, 1, 2, 1, 2, 2, 1, 2, 1, 1, 2, 2, 1, 2, 1, 2, 1, 1, 1, 1, 2, 2, 1, 2, 2, 2, 2, 2, 1, 2, 1, 1, 2, 1, 2, 1, 2, 2, 2, 1, 2, 2, 2, 2, 1, 1, 2, 2, 2, 1, 1, 2, 2, 1, 1, 2, 2, 2, 2, 2, 1, 1, 2, 2, 1, 1, 2, 2, 2, 2, 2, 2, 1, 1, 2, 2, 2, 1, 2, 2, 2, 2, 2, 2, 2, 2, 2, 2, 1, 2, 2, 2, 2, 2, 1, 2, 2, 2, 1, 1, 1, 1, 2, 2, 1, 2, 2, 2, 2, 2, 2, 2, 2, 1, 2, 2, 1, 1, 2, 2, 2, 2, 2, 2, 1, 1, 2, 2, 2, 1, 2, 2, 2, 2, 1, 2, 2, 2, 2, 1, 2, 2, 2, 2, 2, 2, 2, 2, 1, 1, 1, 2, 1, 2, 2, 2, 2, 2, 2, 2, 2, 2, 2, 2, 1, 2, 2, 1, 1, 2, 2, 1, 1, 2, 1, 2, 1, 2, 2, 1, 2, 1, 2, 1, 1, 2, 1, 2, 2, 2, 2, 2, 1, 1, 1, 2, 1, 2, 1, 2, 1, 2, 1, 2, 1, 2, 1, 1, 1, 1, 2, 2, 2, 2, 2, 1, 1, 2, 2, 1, 2, 2, 2, 2, 1, 2, 1, 1, 2, 1, 1, 1, 2, 2, 2, 2, 1, 2, 2, 1, 1, 2, 2, 1, 2, 2, 2, 1, 2, 1, 1, 1, 1, 1, 2, 2, 1, 2, 2, 1, 2, 2, 2, 2, 2, 1, 1, 2, 2, 1, 2, 2, 2, 2, 2, 2, 2, 2, 1, 2, 2, 2, 1, 2, 1, 2, 1, 2, 2, 1, 2, 2, 1, 1, 2, 1, 2, 2, 2, 2, 1, 2, 2, 1, 1, 2, 1, 2, 2, 1, 2, 1, 2, 2, 1, 2, 2, 1, 1, 1, 1, 1, 2, 1, 2, 2, 1, 2, 2, 1, 1, 1, 2, 2, 1, 2, 1, 2, 2, 2, 2, 2, 2, 2, 2, 2, 1, 2, 2, 2, 2, 2, 1, 1, 2, 2, 1, 1, 2, 2, 2, 2, 2, 2, 2, 1, 2, 1, 2, 2, 2, 2, 2, 2, 2, 2, 2, 2, 1, 2, 2, 1, 1, 2, 1, 2, 2, 1, 1, 2, 1, 2, 2, 2, 1, 2, 1, 2, 1, 1, 2, 2, 2, 2, 2, 1, 2, 2, 2, 2, 2, 1, 2, 2, 2, 1, 2, 2, 1, 1, 1, 2, 1, 1, 2, 1, 2, 2, 1, 2, 2, 2, 2, 2, 2, 2, 2, 2, 2, 1, 1, 1, 2, 2, 1, 2, 1, 2, 1, 2, 2, 1, 1, 1, 2, 2, 1, 2, 1, 2, 1, 1, 2, 2, 2, 1, 1, 2, 1, 2, 1, 1, 2, 2, 2, 1, 1, 2, 1, 2, 2, 2, 2, 2, 1, 2, 2, 1, 1, 1, 2, 2, 2, 2, 2, 1, 2, 2, 2, 2, 1, 1, 1, 2, 1, 2, 1, 2, 1, 2, 1, 1, 1, 1, 1, 2, 2, 2, 2, 1, 2, 2, 2, 2, 2, 2, 2, 2, 2, 2, 2, 2, 2, 2, 1, 1, 2, 2, 2, 2, 1, 2, 1, 2, 1, 1, 2, 2, 1, 1, 2, 1, 1, 2, 2, 2, 2, 1, 1, 2, 1, 1, 1, 2, 1, 1, 2, 2, 2, 1, 1, 2, 2, 1, 2, 1, 2, 2, 2, 2, 1, 2, 2, 2, 1, 2, 1, 2, 1, 2, 1, 1, 2, 2, 2, 2, 2, 1, 2, 2, 2, 1, 1, 2, 2, 1, 1, 1, 1, 2, 1, 2, 1, 2, 2, 2, 1, 2, 2, 1, 2, 1, 2, 1, 2, 2, 2, 1, 2, 1, 2, 2, 1, 2, 1, 1, 2, 2, 2, 1, 1, 2, 1, 2, 2, 2, 2, 1, 2, 2, 2, 2, 2, 2, 2, 2, 2, 2, 1, 2, 2, 2, 1, 2, 1, 1, 2, 2, 2, 1, 2, 2, 2, 1, 2, 1, 2, 2, 2, 1, 2, 2, 2, 2, 2, 1, 2, 2, 1, 2, 1, 1, 2, 1, 2, 1, 2, 1, 1, 1, 2, 1, 1, 2, 1, 2, 1, 2, 1, 2, 1, 2, 2, 2, 1, 1, 1, 1, 2, 1, 2, 2, 2, 1, 2, 1, 1, 2, 2, 1, 1, 2, 2, 2, 2, 2, 2, 1, 2, 1, 1, 2, 2, 1, 2, 2, 2, 1, 2, 2, 2, 1, 1, 2, 2, 1, 1, 2, 2, 2, 1, 2, 1, 2, 2, 1, 2, 2, 2, 2, 1, 2, 2, 1, 2, 2, 1, 1, 2, 2, 2, 1, 1, 2, 2, 2, 2, 2, 2, 1, 1, 2, 2]\n"
     ]
    }
   ],
   "source": [
    "print(s)"
   ]
  },
  {
   "cell_type": "code",
   "execution_count": null,
   "id": "fe13e295",
   "metadata": {},
   "outputs": [],
   "source": []
  }
 ],
 "metadata": {
  "kernelspec": {
   "display_name": "Python 3",
   "language": "python",
   "name": "python3"
  },
  "language_info": {
   "codemirror_mode": {
    "name": "ipython",
    "version": 3
   },
   "file_extension": ".py",
   "mimetype": "text/x-python",
   "name": "python",
   "nbconvert_exporter": "python",
   "pygments_lexer": "ipython3",
   "version": "3.9.6"
  }
 },
 "nbformat": 4,
 "nbformat_minor": 5
}
